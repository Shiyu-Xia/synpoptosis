{
 "cells": [
  {
   "cell_type": "code",
   "execution_count": null,
   "id": "3bf32f22",
   "metadata": {},
   "outputs": [],
   "source": [
    "import pandas as pd\n",
    "import matplotlib.pyplot as plt\n",
    "import numpy as np\n",
    "data = pd.read_csv('./export_01-Well-A10_cells.csv')\n",
    "x = np.log10(data['ECD-A'])\n",
    "y = np.log10(data['FITC-A'])\n",
    "color = np.log10(data['PB450-A'])\n",
    "fig, ax = plt.subplots(figsize=(10, 10))\n",
    "from matplotlib.colors import LinearSegmentedColormap\n",
    "colors = [(1, 1, 0),  (0, 0, 1)] \n",
    "custom_colormap = LinearSegmentedColormap.from_list(\"yellow_blue\", colors)\n",
    "sc = ax.scatter(x, y, marker='o', c=color, cmap=custom_colormap, s=20, alpha=0.7, edgecolors='none', vmin=np.log10(10**3), vmax=np.log10(10**5.2))\n",
    "ax.set_xlim(1.5, 7)\n",
    "ax.set_ylim(1.5, 7)\n",
    "ax.set_xticks(range(2, 8))\n",
    "ax.set_yticks(range(2, 8))\n",
    "ax.tick_params(axis='both', which='major', labelsize=60, length=10, width=1)\n",
    "ax.set_aspect('equal', adjustable='box')\n",
    "ax.grid(False)\n",
    "plt.tight_layout()\n",
    "plt.savefig(\"./01-Well-A10_cells.png\", format=\"png\", bbox_inches=\"tight\")\n",
    "plt.show()"
   ]
  }
 ],
 "metadata": {
  "kernelspec": {
   "display_name": "Python 3",
   "language": "python",
   "name": "python3"
  },
  "language_info": {
   "codemirror_mode": {
    "name": "ipython",
    "version": 3
   },
   "file_extension": ".py",
   "mimetype": "text/x-python",
   "name": "python",
   "nbconvert_exporter": "python",
   "pygments_lexer": "ipython3",
   "version": "3.8.8"
  }
 },
 "nbformat": 4,
 "nbformat_minor": 5
}
