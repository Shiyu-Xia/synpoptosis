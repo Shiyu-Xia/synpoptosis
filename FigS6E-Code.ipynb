{
 "cells": [
  {
   "cell_type": "code",
   "execution_count": null,
   "id": "2ab22539",
   "metadata": {},
   "outputs": [],
   "source": [
    "import pandas as pd\n",
    "import matplotlib.pyplot as plt\n",
    "import numpy as np\n",
    "file_path = './export_01-Well-F1_all cells.csv'\n",
    "data = pd.read_csv(file_path)\n",
    "x = data['APC-A']\n",
    "y = data['FITC-A']\n",
    "if len(x) > 5000:\n",
    "    selected_indices = np.random.choice(len(x), 5000, replace=False)\n",
    "    x_selected = x.iloc[selected_indices]\n",
    "    y_selected = y.iloc[selected_indices]\n",
    "else:\n",
    "    x_selected = x\n",
    "    y_selected = y\n",
    "plt.figure(figsize=(8,8))\n",
    "plt.scatter(x_selected, y_selected, alpha=0.6, edgecolors='w', linewidth=0.5, marker='o', c= '#DD7C52', s=100) \n",
    "plt.xscale('log')\n",
    "plt.yscale('log')\n",
    "plt.xlim([10**3, 10**7])\n",
    "plt.ylim([10**2, 5*10**5])\n",
    "plt.grid(False)\n",
    "x_ticks = [10**i for i in range(2, 8)]\n",
    "y_ticks = [10**i for i in range(2, 6)]\n",
    "plt.xticks(x_ticks, [f'{i}' for i in range(2, 8)], fontsize=12)\n",
    "plt.yticks(y_ticks, [f'{i}' for i in range(2, 6)], fontsize=12)\n",
    "plt.tick_params(which='major', labelsize=40, length=10, width=1.5)\n",
    "plt.tick_params(which='minor', length=0)\n",
    "plt.xlabel(r\"$\\log_{10}$(Vybrant fluorescence)\", fontsize=40)\n",
    "plt.ylabel(r\"$\\log_{10}$(Sytox)\", fontsize=40)\n",
    "plt.savefig(\"./export_01-Well-F1_all cells.pdf\", format=\"pdf\", bbox_inches=\"tight\")\n",
    "plt.show()"
   ]
  },
  {
   "cell_type": "code",
   "execution_count": null,
   "id": "ac62bd1e",
   "metadata": {},
   "outputs": [],
   "source": []
  }
 ],
 "metadata": {
  "kernelspec": {
   "display_name": "Python 3",
   "language": "python",
   "name": "python3"
  },
  "language_info": {
   "codemirror_mode": {
    "name": "ipython",
    "version": 3
   },
   "file_extension": ".py",
   "mimetype": "text/x-python",
   "name": "python",
   "nbconvert_exporter": "python",
   "pygments_lexer": "ipython3",
   "version": "3.8.8"
  }
 },
 "nbformat": 4,
 "nbformat_minor": 5
}
